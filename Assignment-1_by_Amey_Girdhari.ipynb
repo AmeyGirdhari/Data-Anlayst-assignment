{
 "cells": [
  {
   "cell_type": "code",
   "execution_count": 1,
   "metadata": {},
   "outputs": [],
   "source": [
    "# importing libraries \n",
    "import pandas as pd # for strings data\n",
    "import numpy as np # for numerical operations\n",
    "import matplotlib.pyplot as plt # for plots and visulations"
   ]
  },
  {
   "cell_type": "code",
   "execution_count": 2,
   "metadata": {},
   "outputs": [],
   "source": [
    "# lading and reading the input file\n",
    "df=pd.read_excel(\"Data Analyst Assignment (1).xlsx\")"
   ]
  },
  {
   "cell_type": "code",
   "execution_count": 3,
   "metadata": {},
   "outputs": [
    {
     "data": {
      "text/html": [
       "<div>\n",
       "<style scoped>\n",
       "    .dataframe tbody tr th:only-of-type {\n",
       "        vertical-align: middle;\n",
       "    }\n",
       "\n",
       "    .dataframe tbody tr th {\n",
       "        vertical-align: top;\n",
       "    }\n",
       "\n",
       "    .dataframe thead th {\n",
       "        text-align: right;\n",
       "    }\n",
       "</style>\n",
       "<table border=\"1\" class=\"dataframe\">\n",
       "  <thead>\n",
       "    <tr style=\"text-align: right;\">\n",
       "      <th></th>\n",
       "      <th>Date</th>\n",
       "      <th>product</th>\n",
       "      <th>phase</th>\n",
       "      <th>campaign_platform</th>\n",
       "      <th>campaign_type</th>\n",
       "      <th>communication_medium</th>\n",
       "      <th>subchannel</th>\n",
       "      <th>audience_type</th>\n",
       "      <th>creative_type</th>\n",
       "      <th>creative_name</th>\n",
       "      <th>device</th>\n",
       "      <th>age</th>\n",
       "      <th>spends</th>\n",
       "      <th>impressions</th>\n",
       "      <th>clicks</th>\n",
       "      <th>link_clicks</th>\n",
       "    </tr>\n",
       "  </thead>\n",
       "  <tbody>\n",
       "    <tr>\n",
       "      <th>0</th>\n",
       "      <td>2019-10-16</td>\n",
       "      <td>Product 1</td>\n",
       "      <td>Performance</td>\n",
       "      <td>Google Ads</td>\n",
       "      <td>Search</td>\n",
       "      <td>Search Keywords</td>\n",
       "      <td>Brand</td>\n",
       "      <td>'-</td>\n",
       "      <td>'-</td>\n",
       "      <td>'-</td>\n",
       "      <td>Desktop</td>\n",
       "      <td>18-24</td>\n",
       "      <td>0.00</td>\n",
       "      <td>2</td>\n",
       "      <td>0</td>\n",
       "      <td>0.0</td>\n",
       "    </tr>\n",
       "    <tr>\n",
       "      <th>1</th>\n",
       "      <td>2019-10-16</td>\n",
       "      <td>Product 1</td>\n",
       "      <td>Performance</td>\n",
       "      <td>Google Ads</td>\n",
       "      <td>Search</td>\n",
       "      <td>Search Keywords</td>\n",
       "      <td>Brand</td>\n",
       "      <td>'-</td>\n",
       "      <td>'-</td>\n",
       "      <td>'-</td>\n",
       "      <td>Desktop</td>\n",
       "      <td>25-34</td>\n",
       "      <td>0.00</td>\n",
       "      <td>5</td>\n",
       "      <td>0</td>\n",
       "      <td>0.0</td>\n",
       "    </tr>\n",
       "    <tr>\n",
       "      <th>2</th>\n",
       "      <td>2019-10-16</td>\n",
       "      <td>Product 1</td>\n",
       "      <td>Performance</td>\n",
       "      <td>Google Ads</td>\n",
       "      <td>Search</td>\n",
       "      <td>Search Keywords</td>\n",
       "      <td>Brand</td>\n",
       "      <td>'-</td>\n",
       "      <td>'-</td>\n",
       "      <td>'-</td>\n",
       "      <td>Desktop</td>\n",
       "      <td>35-44</td>\n",
       "      <td>0.00</td>\n",
       "      <td>1</td>\n",
       "      <td>0</td>\n",
       "      <td>0.0</td>\n",
       "    </tr>\n",
       "    <tr>\n",
       "      <th>3</th>\n",
       "      <td>2019-10-16</td>\n",
       "      <td>Product 1</td>\n",
       "      <td>Performance</td>\n",
       "      <td>Google Ads</td>\n",
       "      <td>Search</td>\n",
       "      <td>Search Keywords</td>\n",
       "      <td>Brand</td>\n",
       "      <td>'-</td>\n",
       "      <td>'-</td>\n",
       "      <td>'-</td>\n",
       "      <td>Desktop</td>\n",
       "      <td>Undetermined</td>\n",
       "      <td>14.63</td>\n",
       "      <td>5</td>\n",
       "      <td>3</td>\n",
       "      <td>0.0</td>\n",
       "    </tr>\n",
       "    <tr>\n",
       "      <th>4</th>\n",
       "      <td>2019-10-18</td>\n",
       "      <td>Product 1</td>\n",
       "      <td>Performance</td>\n",
       "      <td>Google Ads</td>\n",
       "      <td>Search</td>\n",
       "      <td>Search Keywords</td>\n",
       "      <td>Brand</td>\n",
       "      <td>'-</td>\n",
       "      <td>'-</td>\n",
       "      <td>'-</td>\n",
       "      <td>Desktop</td>\n",
       "      <td>18-24</td>\n",
       "      <td>53.31</td>\n",
       "      <td>10</td>\n",
       "      <td>2</td>\n",
       "      <td>0.0</td>\n",
       "    </tr>\n",
       "    <tr>\n",
       "      <th>...</th>\n",
       "      <td>...</td>\n",
       "      <td>...</td>\n",
       "      <td>...</td>\n",
       "      <td>...</td>\n",
       "      <td>...</td>\n",
       "      <td>...</td>\n",
       "      <td>...</td>\n",
       "      <td>...</td>\n",
       "      <td>...</td>\n",
       "      <td>...</td>\n",
       "      <td>...</td>\n",
       "      <td>...</td>\n",
       "      <td>...</td>\n",
       "      <td>...</td>\n",
       "      <td>...</td>\n",
       "      <td>...</td>\n",
       "    </tr>\n",
       "    <tr>\n",
       "      <th>16829</th>\n",
       "      <td>2020-07-07</td>\n",
       "      <td>Product 1</td>\n",
       "      <td>Performance</td>\n",
       "      <td>Google Ads</td>\n",
       "      <td>Search</td>\n",
       "      <td>Search Keywords</td>\n",
       "      <td>Brand</td>\n",
       "      <td>'-</td>\n",
       "      <td>'-</td>\n",
       "      <td>'-</td>\n",
       "      <td>Mobile</td>\n",
       "      <td>25-34</td>\n",
       "      <td>19.88</td>\n",
       "      <td>36</td>\n",
       "      <td>15</td>\n",
       "      <td>0.0</td>\n",
       "    </tr>\n",
       "    <tr>\n",
       "      <th>16830</th>\n",
       "      <td>2020-07-07</td>\n",
       "      <td>Product 1</td>\n",
       "      <td>Performance</td>\n",
       "      <td>Google Ads</td>\n",
       "      <td>Search</td>\n",
       "      <td>Search Keywords</td>\n",
       "      <td>Brand</td>\n",
       "      <td>'-</td>\n",
       "      <td>'-</td>\n",
       "      <td>'-</td>\n",
       "      <td>Mobile</td>\n",
       "      <td>35-44</td>\n",
       "      <td>1.64</td>\n",
       "      <td>11</td>\n",
       "      <td>1</td>\n",
       "      <td>0.0</td>\n",
       "    </tr>\n",
       "    <tr>\n",
       "      <th>16831</th>\n",
       "      <td>2020-07-07</td>\n",
       "      <td>Product 1</td>\n",
       "      <td>Performance</td>\n",
       "      <td>Google Ads</td>\n",
       "      <td>Search</td>\n",
       "      <td>Search Keywords</td>\n",
       "      <td>Brand</td>\n",
       "      <td>'-</td>\n",
       "      <td>'-</td>\n",
       "      <td>'-</td>\n",
       "      <td>Mobile</td>\n",
       "      <td>45-54</td>\n",
       "      <td>0.00</td>\n",
       "      <td>3</td>\n",
       "      <td>0</td>\n",
       "      <td>0.0</td>\n",
       "    </tr>\n",
       "    <tr>\n",
       "      <th>16832</th>\n",
       "      <td>2020-07-07</td>\n",
       "      <td>Product 1</td>\n",
       "      <td>Performance</td>\n",
       "      <td>Google Ads</td>\n",
       "      <td>Search</td>\n",
       "      <td>Search Keywords</td>\n",
       "      <td>Brand</td>\n",
       "      <td>'-</td>\n",
       "      <td>'-</td>\n",
       "      <td>'-</td>\n",
       "      <td>Mobile</td>\n",
       "      <td>65 or more</td>\n",
       "      <td>0.00</td>\n",
       "      <td>3</td>\n",
       "      <td>0</td>\n",
       "      <td>0.0</td>\n",
       "    </tr>\n",
       "    <tr>\n",
       "      <th>16833</th>\n",
       "      <td>2020-07-07</td>\n",
       "      <td>Product 1</td>\n",
       "      <td>Performance</td>\n",
       "      <td>Google Ads</td>\n",
       "      <td>Search</td>\n",
       "      <td>Search Keywords</td>\n",
       "      <td>Brand</td>\n",
       "      <td>'-</td>\n",
       "      <td>'-</td>\n",
       "      <td>'-</td>\n",
       "      <td>Mobile</td>\n",
       "      <td>Undetermined</td>\n",
       "      <td>1.40</td>\n",
       "      <td>14</td>\n",
       "      <td>1</td>\n",
       "      <td>0.0</td>\n",
       "    </tr>\n",
       "  </tbody>\n",
       "</table>\n",
       "<p>16834 rows × 16 columns</p>\n",
       "</div>"
      ],
      "text/plain": [
       "            Date    product        phase campaign_platform campaign_type  \\\n",
       "0     2019-10-16  Product 1  Performance        Google Ads        Search   \n",
       "1     2019-10-16  Product 1  Performance        Google Ads        Search   \n",
       "2     2019-10-16  Product 1  Performance        Google Ads        Search   \n",
       "3     2019-10-16  Product 1  Performance        Google Ads        Search   \n",
       "4     2019-10-18  Product 1  Performance        Google Ads        Search   \n",
       "...          ...        ...          ...               ...           ...   \n",
       "16829 2020-07-07  Product 1  Performance        Google Ads        Search   \n",
       "16830 2020-07-07  Product 1  Performance        Google Ads        Search   \n",
       "16831 2020-07-07  Product 1  Performance        Google Ads        Search   \n",
       "16832 2020-07-07  Product 1  Performance        Google Ads        Search   \n",
       "16833 2020-07-07  Product 1  Performance        Google Ads        Search   \n",
       "\n",
       "      communication_medium subchannel audience_type creative_type  \\\n",
       "0          Search Keywords      Brand            '-            '-   \n",
       "1          Search Keywords      Brand            '-            '-   \n",
       "2          Search Keywords      Brand            '-            '-   \n",
       "3          Search Keywords      Brand            '-            '-   \n",
       "4          Search Keywords      Brand            '-            '-   \n",
       "...                    ...        ...           ...           ...   \n",
       "16829      Search Keywords      Brand            '-            '-   \n",
       "16830      Search Keywords      Brand            '-            '-   \n",
       "16831      Search Keywords      Brand            '-            '-   \n",
       "16832      Search Keywords      Brand            '-            '-   \n",
       "16833      Search Keywords      Brand            '-            '-   \n",
       "\n",
       "      creative_name   device           age  spends  impressions  clicks  \\\n",
       "0                '-  Desktop         18-24    0.00            2       0   \n",
       "1                '-  Desktop         25-34    0.00            5       0   \n",
       "2                '-  Desktop         35-44    0.00            1       0   \n",
       "3                '-  Desktop  Undetermined   14.63            5       3   \n",
       "4                '-  Desktop         18-24   53.31           10       2   \n",
       "...             ...      ...           ...     ...          ...     ...   \n",
       "16829            '-   Mobile         25-34   19.88           36      15   \n",
       "16830            '-   Mobile         35-44    1.64           11       1   \n",
       "16831            '-   Mobile         45-54    0.00            3       0   \n",
       "16832            '-   Mobile    65 or more    0.00            3       0   \n",
       "16833            '-   Mobile  Undetermined    1.40           14       1   \n",
       "\n",
       "       link_clicks  \n",
       "0              0.0  \n",
       "1              0.0  \n",
       "2              0.0  \n",
       "3              0.0  \n",
       "4              0.0  \n",
       "...            ...  \n",
       "16829          0.0  \n",
       "16830          0.0  \n",
       "16831          0.0  \n",
       "16832          0.0  \n",
       "16833          0.0  \n",
       "\n",
       "[16834 rows x 16 columns]"
      ]
     },
     "execution_count": 3,
     "metadata": {},
     "output_type": "execute_result"
    }
   ],
   "source": [
    "df"
   ]
  },
  {
   "cell_type": "code",
   "execution_count": 4,
   "metadata": {},
   "outputs": [
    {
     "name": "stdout",
     "output_type": "stream",
     "text": [
      "<class 'pandas.core.frame.DataFrame'>\n",
      "RangeIndex: 16834 entries, 0 to 16833\n",
      "Data columns (total 16 columns):\n",
      " #   Column                Non-Null Count  Dtype         \n",
      "---  ------                --------------  -----         \n",
      " 0   Date                  16834 non-null  datetime64[ns]\n",
      " 1   product               16834 non-null  object        \n",
      " 2   phase                 16834 non-null  object        \n",
      " 3   campaign_platform     16834 non-null  object        \n",
      " 4   campaign_type         16834 non-null  object        \n",
      " 5   communication_medium  16834 non-null  object        \n",
      " 6   subchannel            16834 non-null  object        \n",
      " 7   audience_type         16834 non-null  object        \n",
      " 8   creative_type         16834 non-null  object        \n",
      " 9   creative_name         16834 non-null  object        \n",
      " 10  device                16834 non-null  object        \n",
      " 11  age                   16834 non-null  object        \n",
      " 12  spends                16834 non-null  float64       \n",
      " 13  impressions           16834 non-null  int64         \n",
      " 14  clicks                16834 non-null  int64         \n",
      " 15  link_clicks           16288 non-null  float64       \n",
      "dtypes: datetime64[ns](1), float64(2), int64(2), object(11)\n",
      "memory usage: 2.1+ MB\n"
     ]
    }
   ],
   "source": [
    "# detiled \n",
    "df.info()"
   ]
  },
  {
   "cell_type": "markdown",
   "metadata": {},
   "source": [
    "#  Google ads analysis"
   ]
  },
  {
   "cell_type": "code",
   "execution_count": 5,
   "metadata": {},
   "outputs": [],
   "source": [
    "# selecting only ggogle ads data from the input file\n",
    "a1=df.loc[df['campaign_platform']=='Google Ads']"
   ]
  },
  {
   "cell_type": "code",
   "execution_count": 6,
   "metadata": {},
   "outputs": [
    {
     "name": "stderr",
     "output_type": "stream",
     "text": [
      "C:\\Users\\vrunda\\anaconda3\\envs\\bull\\lib\\site-packages\\pandas\\core\\frame.py:3990: SettingWithCopyWarning: \n",
      "A value is trying to be set on a copy of a slice from a DataFrame\n",
      "\n",
      "See the caveats in the documentation: https://pandas.pydata.org/pandas-docs/stable/user_guide/indexing.html#returning-a-view-versus-a-copy\n",
      "  return super().drop(\n"
     ]
    }
   ],
   "source": [
    "# removing unnecssary columns from the data\n",
    "a1.drop(['creative_name','creative_type','product','phase','audience_type','communication_medium','campaign_platform','campaign_type','link_clicks'],axis=1,inplace=True)"
   ]
  },
  {
   "cell_type": "code",
   "execution_count": 70,
   "metadata": {},
   "outputs": [
    {
     "data": {
      "image/png": "[encoded data removed]",
      "text/plain": [
       "<Figure size 432x288 with 1 Axes>"
      ]
     },
     "metadata": {
      "needs_background": "light"
     },
     "output_type": "display_data"
    }
   ],
   "source": [
    "a1['subchannel'].value_counts().plot.bar()\n",
    "plt.xticks(rotation=0)\n",
    "plt.xlabel('Number of ads',size=14)\n",
    "plt.ylabel('Categories of ads',size=14)\n",
    "plt.title('Ads shown to users',size=16);\n"
   ]
  },
  {
   "cell_type": "code",
   "execution_count": 20,
   "metadata": {},
   "outputs": [
    {
     "data": {
      "text/plain": [
       "Text(0.5, 1.0, 'Users gadgets for interaction')"
      ]
     },
     "execution_count": 20,
     "metadata": {},
     "output_type": "execute_result"
    },
    {
     "data": {
      "image/png": "[encoded data removed]",
      "text/plain": [
       "<Figure size 432x288 with 1 Axes>"
      ]
     },
     "metadata": {
      "needs_background": "light"
     },
     "output_type": "display_data"
    }
   ],
   "source": [
    "a1['device'].value_counts().plot.bar()\n",
    "plt.xlabel('Type gadget',size=14)\n",
    "plt.ylabel('Number of users',size=14)\n",
    "plt.title('Users gadgets for interaction',size=16)"
   ]
  },
  {
   "cell_type": "code",
   "execution_count": 54,
   "metadata": {},
   "outputs": [
    {
     "data": {
      "image/png": "[encoded data removed]",
      "text/plain": [
       "<Figure size 432x288 with 1 Axes>"
      ]
     },
     "metadata": {
      "needs_background": "light"
     },
     "output_type": "display_data"
    }
   ],
   "source": [
    "plt.hist(a1['age']);"
   ]
  },
  {
   "cell_type": "code",
   "execution_count": 32,
   "metadata": {},
   "outputs": [
    {
     "data": {
      "image/png": "[encoded data removed]",
      "text/plain": [
       "<Figure size 504x360 with 1 Axes>"
      ]
     },
     "metadata": {
      "needs_background": "light"
     },
     "output_type": "display_data"
    }
   ],
   "source": [
    "fig,ax=plt.subplots(figsize=(7,5))\n",
    "ax.scatter(a1['impressions'],a1['clicks'],c='salmon')\n",
    "plt.xlabel('Impressions',size=14)\n",
    "plt.ylabel('Clicks',size=14)\n",
    "plt.title('Impression vs Clicks',size=16);\n"
   ]
  },
  {
   "cell_type": "code",
   "execution_count": 37,
   "metadata": {},
   "outputs": [
    {
     "data": {
      "image/png": "[encoded data removed]",
      "text/plain": [
       "<Figure size 504x360 with 1 Axes>"
      ]
     },
     "metadata": {
      "needs_background": "light"
     },
     "output_type": "display_data"
    }
   ],
   "source": [
    "fig,ax=plt.subplots(figsize=(7,5))\n",
    "ax.scatter(a1['impressions'],a1['spends'],c='yellowgreen')\n",
    "plt.xlabel('Impressions',size=14)\n",
    "plt.ylabel('Spends',size=14)\n",
    "plt.title('Impression vs Spends',size=16);\n"
   ]
  },
  {
   "cell_type": "code",
   "execution_count": 63,
   "metadata": {},
   "outputs": [
    {
     "data": {
      "image/png": "[encoded data removed]",
      "text/plain": [
       "<Figure size 504x360 with 1 Axes>"
      ]
     },
     "metadata": {
      "needs_background": "light"
     },
     "output_type": "display_data"
    }
   ],
   "source": [
    "fig,ax=plt.subplots(figsize=(7,5))\n",
    "ax.bar(a1['subchannel'],a1['spends'],color='dimgrey')\n",
    "plt.xlabel('Subchannel',size=14)\n",
    "plt.ylabel('Spends',size=14)\n",
    "plt.title('Subchannel vs Spends',size=16);"
   ]
  },
  {
   "cell_type": "code",
   "execution_count": 68,
   "metadata": {},
   "outputs": [
    {
     "data": {
      "image/png": "[encoded data removed]",
      "text/plain": [
       "<Figure size 504x360 with 1 Axes>"
      ]
     },
     "metadata": {
      "needs_background": "light"
     },
     "output_type": "display_data"
    }
   ],
   "source": [
    "fig,ax=plt.subplots(figsize=(7,5))\n",
    "ax.bar(a1['age'],a1['spends'],color='pink')\n",
    "plt.xlabel('Age',size=14)\n",
    "plt.ylabel('Spends',size=14)\n",
    "plt.title('Age vs Spends',size=16);"
   ]
  },
  {
   "cell_type": "code",
   "execution_count": 8,
   "metadata": {},
   "outputs": [
    {
     "name": "stderr",
     "output_type": "stream",
     "text": [
      "<ipython-input-8-c4342f82503e>:1: SettingWithCopyWarning: \n",
      "A value is trying to be set on a copy of a slice from a DataFrame.\n",
      "Try using .loc[row_indexer,col_indexer] = value instead\n",
      "\n",
      "See the caveats in the documentation: https://pandas.pydata.org/pandas-docs/stable/user_guide/indexing.html#returning-a-view-versus-a-copy\n",
      "  a1['age']=a1['age'].astype('category')\n"
     ]
    }
   ],
   "source": [
    "a1['age']=a1['age'].astype('category')"
   ]
  },
  {
   "cell_type": "code",
   "execution_count": 9,
   "metadata": {},
   "outputs": [
    {
     "name": "stderr",
     "output_type": "stream",
     "text": [
      "<ipython-input-9-27a76e0b5ee5>:1: SettingWithCopyWarning: \n",
      "A value is trying to be set on a copy of a slice from a DataFrame.\n",
      "Try using .loc[row_indexer,col_indexer] = value instead\n",
      "\n",
      "See the caveats in the documentation: https://pandas.pydata.org/pandas-docs/stable/user_guide/indexing.html#returning-a-view-versus-a-copy\n",
      "  a1['derived']=a1['age'].cat.codes\n"
     ]
    }
   ],
   "source": [
    "a1['derived']=a1['age'].cat.codes"
   ]
  },
  {
   "cell_type": "code",
   "execution_count": 10,
   "metadata": {},
   "outputs": [
    {
     "name": "stderr",
     "output_type": "stream",
     "text": [
      "<ipython-input-10-42558724887d>:1: SettingWithCopyWarning: \n",
      "A value is trying to be set on a copy of a slice from a DataFrame.\n",
      "Try using .loc[row_indexer,col_indexer] = value instead\n",
      "\n",
      "See the caveats in the documentation: https://pandas.pydata.org/pandas-docs/stable/user_guide/indexing.html#returning-a-view-versus-a-copy\n",
      "  a1['subchannel']=a1['subchannel'].astype('category')\n"
     ]
    }
   ],
   "source": [
    "a1['subchannel']=a1['subchannel'].astype('category')"
   ]
  },
  {
   "cell_type": "code",
   "execution_count": 11,
   "metadata": {},
   "outputs": [
    {
     "name": "stderr",
     "output_type": "stream",
     "text": [
      "<ipython-input-11-2041623545e6>:1: SettingWithCopyWarning: \n",
      "A value is trying to be set on a copy of a slice from a DataFrame.\n",
      "Try using .loc[row_indexer,col_indexer] = value instead\n",
      "\n",
      "See the caveats in the documentation: https://pandas.pydata.org/pandas-docs/stable/user_guide/indexing.html#returning-a-view-versus-a-copy\n",
      "  a1['ad_derived']=a1['subchannel'].cat.codes\n"
     ]
    }
   ],
   "source": [
    "a1['ad_derived']=a1['subchannel'].cat.codes"
   ]
  },
  {
   "cell_type": "code",
   "execution_count": 12,
   "metadata": {},
   "outputs": [],
   "source": [
    "x=a1[['derived','spends']]"
   ]
  },
  {
   "cell_type": "code",
   "execution_count": 39,
   "metadata": {},
   "outputs": [
    {
     "data": {
      "text/plain": [
       "25-34           2609\n",
       "Undetermined    2586\n",
       "18-24           2472\n",
       "35-44           2380\n",
       "45-54           2022\n",
       "65 or more      1558\n",
       "55-64           1474\n",
       "Name: age, dtype: int64"
      ]
     },
     "execution_count": 39,
     "metadata": {},
     "output_type": "execute_result"
    }
   ],
   "source": [
    "a1.age.value_counts()"
   ]
  },
  {
   "cell_type": "code",
   "execution_count": 38,
   "metadata": {},
   "outputs": [
    {
     "data": {
      "text/plain": [
       "1    2609\n",
       "6    2586\n",
       "0    2472\n",
       "2    2380\n",
       "3    2022\n",
       "5    1558\n",
       "4    1474\n",
       "dtype: int64"
      ]
     },
     "execution_count": 38,
     "metadata": {},
     "output_type": "execute_result"
    }
   ],
   "source": [
    "a1.age.cat.codes.value_counts()"
   ]
  },
  {
   "cell_type": "code",
   "execution_count": 36,
   "metadata": {},
   "outputs": [
    {
     "data": {
      "text/html": [
       "<div>\n",
       "<style scoped>\n",
       "    .dataframe tbody tr th:only-of-type {\n",
       "        vertical-align: middle;\n",
       "    }\n",
       "\n",
       "    .dataframe tbody tr th {\n",
       "        vertical-align: top;\n",
       "    }\n",
       "\n",
       "    .dataframe thead th {\n",
       "        text-align: right;\n",
       "    }\n",
       "</style>\n",
       "<table border=\"1\" class=\"dataframe\">\n",
       "  <thead>\n",
       "    <tr style=\"text-align: right;\">\n",
       "      <th></th>\n",
       "      <th>derived</th>\n",
       "      <th>spends</th>\n",
       "    </tr>\n",
       "  </thead>\n",
       "  <tbody>\n",
       "    <tr>\n",
       "      <th>16829</th>\n",
       "      <td>1</td>\n",
       "      <td>19.88</td>\n",
       "    </tr>\n",
       "    <tr>\n",
       "      <th>16830</th>\n",
       "      <td>2</td>\n",
       "      <td>1.64</td>\n",
       "    </tr>\n",
       "    <tr>\n",
       "      <th>16831</th>\n",
       "      <td>3</td>\n",
       "      <td>0.00</td>\n",
       "    </tr>\n",
       "    <tr>\n",
       "      <th>16832</th>\n",
       "      <td>5</td>\n",
       "      <td>0.00</td>\n",
       "    </tr>\n",
       "    <tr>\n",
       "      <th>16833</th>\n",
       "      <td>6</td>\n",
       "      <td>1.40</td>\n",
       "    </tr>\n",
       "  </tbody>\n",
       "</table>\n",
       "</div>"
      ],
      "text/plain": [
       "       derived  spends\n",
       "16829        1   19.88\n",
       "16830        2    1.64\n",
       "16831        3    0.00\n",
       "16832        5    0.00\n",
       "16833        6    1.40"
      ]
     },
     "execution_count": 36,
     "metadata": {},
     "output_type": "execute_result"
    }
   ],
   "source": [
    "x.tail()"
   ]
  },
  {
   "cell_type": "code",
   "execution_count": 13,
   "metadata": {},
   "outputs": [],
   "source": [
    "from sklearn.preprocessing import StandardScaler,normalize"
   ]
  },
  {
   "cell_type": "code",
   "execution_count": 16,
   "metadata": {},
   "outputs": [],
   "source": [
    "scaler=StandardScaler()\n",
    "scaled_data=scaler.fit_transform(x)"
   ]
  },
  {
   "cell_type": "code",
   "execution_count": 17,
   "metadata": {},
   "outputs": [],
   "source": [
    "nomalized_data=normalize(scaled_data)"
   ]
  },
  {
   "cell_type": "code",
   "execution_count": 18,
   "metadata": {},
   "outputs": [],
   "source": [
    "normalized_data=pd.DataFrame(nomalized_data)"
   ]
  },
  {
   "cell_type": "code",
   "execution_count": 35,
   "metadata": {},
   "outputs": [
    {
     "data": {
      "text/plain": [
       "array([[-0.96392056, -0.26619009],\n",
       "       [-0.91946854, -0.3931636 ],\n",
       "       [-0.72613246, -0.68755484],\n",
       "       ...,\n",
       "       [ 0.22083411, -0.97531138],\n",
       "       [ 0.9414168 , -0.33724533],\n",
       "       [ 0.97177058, -0.23592782]])"
      ]
     },
     "execution_count": 35,
     "metadata": {},
     "output_type": "execute_result"
    }
   ],
   "source": [
    "nomalized_data"
   ]
  },
  {
   "cell_type": "code",
   "execution_count": 19,
   "metadata": {},
   "outputs": [],
   "source": [
    "from sklearn.cluster import KMeans"
   ]
  },
  {
   "cell_type": "code",
   "execution_count": 45,
   "metadata": {},
   "outputs": [
    {
     "name": "stdout",
     "output_type": "stream",
     "text": [
      "[[-0.50139345  0.74699473]\n",
      " [ 0.77133623 -0.41658529]\n",
      " [-0.91747529 -0.29394849]]\n"
     ]
    },
    {
     "data": {
      "image/png": "[encoded data removed]",
      "text/plain": [
       "<Figure size 432x288 with 1 Axes>"
      ]
     },
     "metadata": {
      "needs_background": "light"
     },
     "output_type": "display_data"
    }
   ],
   "source": [
    "kmeans = KMeans(n_clusters=5).fit(normalized_data)\n",
    "centroids = kmeans.cluster_centers_\n",
    "print(centroids)\n",
    "\n",
    "plt.scatter(normalized_data.iloc[:,0],normalized_data.iloc[:,1], c= kmeans.labels_.astype(float), s=50, alpha=0.5)\n",
    "plt.scatter(centroids[:, 0], centroids[:, 1], c='red', s=50)\n",
    "plt.show()"
   ]
  },
  {
   "cell_type": "code",
   "execution_count": 11,
   "metadata": {},
   "outputs": [
    {
     "data": {
      "text/html": [
       "<div>\n",
       "<style scoped>\n",
       "    .dataframe tbody tr th:only-of-type {\n",
       "        vertical-align: middle;\n",
       "    }\n",
       "\n",
       "    .dataframe tbody tr th {\n",
       "        vertical-align: top;\n",
       "    }\n",
       "\n",
       "    .dataframe thead th {\n",
       "        text-align: right;\n",
       "    }\n",
       "</style>\n",
       "<table border=\"1\" class=\"dataframe\">\n",
       "  <thead>\n",
       "    <tr style=\"text-align: right;\">\n",
       "      <th></th>\n",
       "      <th>Date</th>\n",
       "      <th>subchannel</th>\n",
       "      <th>device</th>\n",
       "      <th>age</th>\n",
       "      <th>spends</th>\n",
       "      <th>impressions</th>\n",
       "      <th>clicks</th>\n",
       "      <th>link_clicks</th>\n",
       "    </tr>\n",
       "  </thead>\n",
       "  <tbody>\n",
       "    <tr>\n",
       "      <th>0</th>\n",
       "      <td>2019-10-16</td>\n",
       "      <td>Brand</td>\n",
       "      <td>Desktop</td>\n",
       "      <td>18-24</td>\n",
       "      <td>0.00</td>\n",
       "      <td>2</td>\n",
       "      <td>0</td>\n",
       "      <td>0.0</td>\n",
       "    </tr>\n",
       "    <tr>\n",
       "      <th>1</th>\n",
       "      <td>2019-10-16</td>\n",
       "      <td>Brand</td>\n",
       "      <td>Desktop</td>\n",
       "      <td>25-34</td>\n",
       "      <td>0.00</td>\n",
       "      <td>5</td>\n",
       "      <td>0</td>\n",
       "      <td>0.0</td>\n",
       "    </tr>\n",
       "    <tr>\n",
       "      <th>2</th>\n",
       "      <td>2019-10-16</td>\n",
       "      <td>Brand</td>\n",
       "      <td>Desktop</td>\n",
       "      <td>35-44</td>\n",
       "      <td>0.00</td>\n",
       "      <td>1</td>\n",
       "      <td>0</td>\n",
       "      <td>0.0</td>\n",
       "    </tr>\n",
       "    <tr>\n",
       "      <th>3</th>\n",
       "      <td>2019-10-16</td>\n",
       "      <td>Brand</td>\n",
       "      <td>Desktop</td>\n",
       "      <td>Undetermined</td>\n",
       "      <td>14.63</td>\n",
       "      <td>5</td>\n",
       "      <td>3</td>\n",
       "      <td>0.0</td>\n",
       "    </tr>\n",
       "    <tr>\n",
       "      <th>4</th>\n",
       "      <td>2019-10-18</td>\n",
       "      <td>Brand</td>\n",
       "      <td>Desktop</td>\n",
       "      <td>18-24</td>\n",
       "      <td>53.31</td>\n",
       "      <td>10</td>\n",
       "      <td>2</td>\n",
       "      <td>0.0</td>\n",
       "    </tr>\n",
       "    <tr>\n",
       "      <th>...</th>\n",
       "      <td>...</td>\n",
       "      <td>...</td>\n",
       "      <td>...</td>\n",
       "      <td>...</td>\n",
       "      <td>...</td>\n",
       "      <td>...</td>\n",
       "      <td>...</td>\n",
       "      <td>...</td>\n",
       "    </tr>\n",
       "    <tr>\n",
       "      <th>16829</th>\n",
       "      <td>2020-07-07</td>\n",
       "      <td>Brand</td>\n",
       "      <td>Mobile</td>\n",
       "      <td>25-34</td>\n",
       "      <td>19.88</td>\n",
       "      <td>36</td>\n",
       "      <td>15</td>\n",
       "      <td>0.0</td>\n",
       "    </tr>\n",
       "    <tr>\n",
       "      <th>16830</th>\n",
       "      <td>2020-07-07</td>\n",
       "      <td>Brand</td>\n",
       "      <td>Mobile</td>\n",
       "      <td>35-44</td>\n",
       "      <td>1.64</td>\n",
       "      <td>11</td>\n",
       "      <td>1</td>\n",
       "      <td>0.0</td>\n",
       "    </tr>\n",
       "    <tr>\n",
       "      <th>16831</th>\n",
       "      <td>2020-07-07</td>\n",
       "      <td>Brand</td>\n",
       "      <td>Mobile</td>\n",
       "      <td>45-54</td>\n",
       "      <td>0.00</td>\n",
       "      <td>3</td>\n",
       "      <td>0</td>\n",
       "      <td>0.0</td>\n",
       "    </tr>\n",
       "    <tr>\n",
       "      <th>16832</th>\n",
       "      <td>2020-07-07</td>\n",
       "      <td>Brand</td>\n",
       "      <td>Mobile</td>\n",
       "      <td>65 or more</td>\n",
       "      <td>0.00</td>\n",
       "      <td>3</td>\n",
       "      <td>0</td>\n",
       "      <td>0.0</td>\n",
       "    </tr>\n",
       "    <tr>\n",
       "      <th>16833</th>\n",
       "      <td>2020-07-07</td>\n",
       "      <td>Brand</td>\n",
       "      <td>Mobile</td>\n",
       "      <td>Undetermined</td>\n",
       "      <td>1.40</td>\n",
       "      <td>14</td>\n",
       "      <td>1</td>\n",
       "      <td>0.0</td>\n",
       "    </tr>\n",
       "  </tbody>\n",
       "</table>\n",
       "<p>15101 rows × 8 columns</p>\n",
       "</div>"
      ],
      "text/plain": [
       "            Date subchannel   device           age  spends  impressions  \\\n",
       "0     2019-10-16      Brand  Desktop         18-24    0.00            2   \n",
       "1     2019-10-16      Brand  Desktop         25-34    0.00            5   \n",
       "2     2019-10-16      Brand  Desktop         35-44    0.00            1   \n",
       "3     2019-10-16      Brand  Desktop  Undetermined   14.63            5   \n",
       "4     2019-10-18      Brand  Desktop         18-24   53.31           10   \n",
       "...          ...        ...      ...           ...     ...          ...   \n",
       "16829 2020-07-07      Brand   Mobile         25-34   19.88           36   \n",
       "16830 2020-07-07      Brand   Mobile         35-44    1.64           11   \n",
       "16831 2020-07-07      Brand   Mobile         45-54    0.00            3   \n",
       "16832 2020-07-07      Brand   Mobile    65 or more    0.00            3   \n",
       "16833 2020-07-07      Brand   Mobile  Undetermined    1.40           14   \n",
       "\n",
       "       clicks  link_clicks  \n",
       "0           0          0.0  \n",
       "1           0          0.0  \n",
       "2           0          0.0  \n",
       "3           3          0.0  \n",
       "4           2          0.0  \n",
       "...       ...          ...  \n",
       "16829      15          0.0  \n",
       "16830       1          0.0  \n",
       "16831       0          0.0  \n",
       "16832       0          0.0  \n",
       "16833       1          0.0  \n",
       "\n",
       "[15101 rows x 8 columns]"
      ]
     },
     "execution_count": 11,
     "metadata": {},
     "output_type": "execute_result"
    }
   ],
   "source": [
    "a1"
   ]
  },
  {
   "cell_type": "markdown",
   "metadata": {},
   "source": [
    "# Facebook ads analysis"
   ]
  },
  {
   "cell_type": "code",
   "execution_count": 8,
   "metadata": {},
   "outputs": [],
   "source": [
    "a2=df.loc[df['campaign_platform']=='Facebook Ads']"
   ]
  },
  {
   "cell_type": "code",
   "execution_count": 9,
   "metadata": {},
   "outputs": [
    {
     "name": "stderr",
     "output_type": "stream",
     "text": [
      "C:\\Users\\vrunda\\anaconda3\\envs\\bull\\lib\\site-packages\\pandas\\core\\frame.py:3990: SettingWithCopyWarning: \n",
      "A value is trying to be set on a copy of a slice from a DataFrame\n",
      "\n",
      "See the caveats in the documentation: https://pandas.pydata.org/pandas-docs/stable/user_guide/indexing.html#returning-a-view-versus-a-copy\n",
      "  return super().drop(\n"
     ]
    }
   ],
   "source": [
    "a2.drop(['product','phase','campaign_platform','campaign_type','communication_medium','subchannel'],axis=1,inplace=True)"
   ]
  },
  {
   "cell_type": "code",
   "execution_count": 10,
   "metadata": {},
   "outputs": [
    {
     "data": {
      "text/html": [
       "<div>\n",
       "<style scoped>\n",
       "    .dataframe tbody tr th:only-of-type {\n",
       "        vertical-align: middle;\n",
       "    }\n",
       "\n",
       "    .dataframe tbody tr th {\n",
       "        vertical-align: top;\n",
       "    }\n",
       "\n",
       "    .dataframe thead th {\n",
       "        text-align: right;\n",
       "    }\n",
       "</style>\n",
       "<table border=\"1\" class=\"dataframe\">\n",
       "  <thead>\n",
       "    <tr style=\"text-align: right;\">\n",
       "      <th></th>\n",
       "      <th>Date</th>\n",
       "      <th>subchannel</th>\n",
       "      <th>audience_type</th>\n",
       "      <th>creative_type</th>\n",
       "      <th>creative_name</th>\n",
       "      <th>device</th>\n",
       "      <th>age</th>\n",
       "      <th>spends</th>\n",
       "      <th>impressions</th>\n",
       "      <th>clicks</th>\n",
       "      <th>link_clicks</th>\n",
       "    </tr>\n",
       "  </thead>\n",
       "  <tbody>\n",
       "    <tr>\n",
       "      <th>2009</th>\n",
       "      <td>2019-12-16</td>\n",
       "      <td>Facebook Ads</td>\n",
       "      <td>Audience 2</td>\n",
       "      <td>Carousal</td>\n",
       "      <td>Carousal</td>\n",
       "      <td>device</td>\n",
       "      <td>25-34</td>\n",
       "      <td>70.280000</td>\n",
       "      <td>730</td>\n",
       "      <td>12</td>\n",
       "      <td>9.0</td>\n",
       "    </tr>\n",
       "    <tr>\n",
       "      <th>2010</th>\n",
       "      <td>2019-12-16</td>\n",
       "      <td>Facebook Ads</td>\n",
       "      <td>Audience 2</td>\n",
       "      <td>Carousal</td>\n",
       "      <td>Carousal</td>\n",
       "      <td>device</td>\n",
       "      <td>35-44</td>\n",
       "      <td>7.660000</td>\n",
       "      <td>71</td>\n",
       "      <td>1</td>\n",
       "      <td>1.0</td>\n",
       "    </tr>\n",
       "    <tr>\n",
       "      <th>2011</th>\n",
       "      <td>2019-12-16</td>\n",
       "      <td>Facebook Ads</td>\n",
       "      <td>Audience 2</td>\n",
       "      <td>Carousal</td>\n",
       "      <td>Carousal</td>\n",
       "      <td>device</td>\n",
       "      <td>45-54</td>\n",
       "      <td>3.800000</td>\n",
       "      <td>32</td>\n",
       "      <td>1</td>\n",
       "      <td>NaN</td>\n",
       "    </tr>\n",
       "    <tr>\n",
       "      <th>2012</th>\n",
       "      <td>2019-12-16</td>\n",
       "      <td>Facebook Ads</td>\n",
       "      <td>Audience 2</td>\n",
       "      <td>Carousal</td>\n",
       "      <td>Carousal</td>\n",
       "      <td>device</td>\n",
       "      <td>55-64</td>\n",
       "      <td>0.450000</td>\n",
       "      <td>3</td>\n",
       "      <td>0</td>\n",
       "      <td>NaN</td>\n",
       "    </tr>\n",
       "    <tr>\n",
       "      <th>2013</th>\n",
       "      <td>2019-12-16</td>\n",
       "      <td>Facebook Ads</td>\n",
       "      <td>Audience 2</td>\n",
       "      <td>Image</td>\n",
       "      <td>Click</td>\n",
       "      <td>device</td>\n",
       "      <td>25-34</td>\n",
       "      <td>117.130000</td>\n",
       "      <td>638</td>\n",
       "      <td>36</td>\n",
       "      <td>21.0</td>\n",
       "    </tr>\n",
       "    <tr>\n",
       "      <th>...</th>\n",
       "      <td>...</td>\n",
       "      <td>...</td>\n",
       "      <td>...</td>\n",
       "      <td>...</td>\n",
       "      <td>...</td>\n",
       "      <td>...</td>\n",
       "      <td>...</td>\n",
       "      <td>...</td>\n",
       "      <td>...</td>\n",
       "      <td>...</td>\n",
       "      <td>...</td>\n",
       "    </tr>\n",
       "    <tr>\n",
       "      <th>13808</th>\n",
       "      <td>2020-03-20</td>\n",
       "      <td>Facebook Ads</td>\n",
       "      <td>Audience 1</td>\n",
       "      <td>Image</td>\n",
       "      <td>Click</td>\n",
       "      <td>device</td>\n",
       "      <td>55-64</td>\n",
       "      <td>6.409971</td>\n",
       "      <td>68</td>\n",
       "      <td>1</td>\n",
       "      <td>NaN</td>\n",
       "    </tr>\n",
       "    <tr>\n",
       "      <th>13809</th>\n",
       "      <td>2020-03-20</td>\n",
       "      <td>Facebook Ads</td>\n",
       "      <td>Audience 1</td>\n",
       "      <td>Image</td>\n",
       "      <td>Girl</td>\n",
       "      <td>device</td>\n",
       "      <td>25-34</td>\n",
       "      <td>255.620000</td>\n",
       "      <td>1895</td>\n",
       "      <td>30</td>\n",
       "      <td>11.0</td>\n",
       "    </tr>\n",
       "    <tr>\n",
       "      <th>13810</th>\n",
       "      <td>2020-03-20</td>\n",
       "      <td>Facebook Ads</td>\n",
       "      <td>Audience 1</td>\n",
       "      <td>Image</td>\n",
       "      <td>Girl</td>\n",
       "      <td>device</td>\n",
       "      <td>35-44</td>\n",
       "      <td>89.060000</td>\n",
       "      <td>764</td>\n",
       "      <td>7</td>\n",
       "      <td>1.0</td>\n",
       "    </tr>\n",
       "    <tr>\n",
       "      <th>13811</th>\n",
       "      <td>2020-03-20</td>\n",
       "      <td>Facebook Ads</td>\n",
       "      <td>Audience 1</td>\n",
       "      <td>Image</td>\n",
       "      <td>Girl</td>\n",
       "      <td>device</td>\n",
       "      <td>45-54</td>\n",
       "      <td>24.350000</td>\n",
       "      <td>228</td>\n",
       "      <td>11</td>\n",
       "      <td>3.0</td>\n",
       "    </tr>\n",
       "    <tr>\n",
       "      <th>13812</th>\n",
       "      <td>2020-03-20</td>\n",
       "      <td>Facebook Ads</td>\n",
       "      <td>Audience 1</td>\n",
       "      <td>Image</td>\n",
       "      <td>Girl</td>\n",
       "      <td>device</td>\n",
       "      <td>55-64</td>\n",
       "      <td>1.430000</td>\n",
       "      <td>18</td>\n",
       "      <td>1</td>\n",
       "      <td>NaN</td>\n",
       "    </tr>\n",
       "  </tbody>\n",
       "</table>\n",
       "<p>1733 rows × 11 columns</p>\n",
       "</div>"
      ],
      "text/plain": [
       "            Date    subchannel audience_type creative_type creative_name  \\\n",
       "2009  2019-12-16  Facebook Ads    Audience 2      Carousal      Carousal   \n",
       "2010  2019-12-16  Facebook Ads    Audience 2      Carousal      Carousal   \n",
       "2011  2019-12-16  Facebook Ads    Audience 2      Carousal      Carousal   \n",
       "2012  2019-12-16  Facebook Ads    Audience 2      Carousal      Carousal   \n",
       "2013  2019-12-16  Facebook Ads    Audience 2         Image         Click   \n",
       "...          ...           ...           ...           ...           ...   \n",
       "13808 2020-03-20  Facebook Ads    Audience 1         Image         Click   \n",
       "13809 2020-03-20  Facebook Ads    Audience 1         Image          Girl   \n",
       "13810 2020-03-20  Facebook Ads    Audience 1         Image          Girl   \n",
       "13811 2020-03-20  Facebook Ads    Audience 1         Image          Girl   \n",
       "13812 2020-03-20  Facebook Ads    Audience 1         Image          Girl   \n",
       "\n",
       "       device    age      spends  impressions  clicks  link_clicks  \n",
       "2009   device  25-34   70.280000          730      12          9.0  \n",
       "2010   device  35-44    7.660000           71       1          1.0  \n",
       "2011   device  45-54    3.800000           32       1          NaN  \n",
       "2012   device  55-64    0.450000            3       0          NaN  \n",
       "2013   device  25-34  117.130000          638      36         21.0  \n",
       "...       ...    ...         ...          ...     ...          ...  \n",
       "13808  device  55-64    6.409971           68       1          NaN  \n",
       "13809  device  25-34  255.620000         1895      30         11.0  \n",
       "13810  device  35-44   89.060000          764       7          1.0  \n",
       "13811  device  45-54   24.350000          228      11          3.0  \n",
       "13812  device  55-64    1.430000           18       1          NaN  \n",
       "\n",
       "[1733 rows x 11 columns]"
      ]
     },
     "execution_count": 10,
     "metadata": {},
     "output_type": "execute_result"
    }
   ],
   "source": [
    "a2"
   ]
  },
  {
   "cell_type": "code",
   "execution_count": 67,
   "metadata": {},
   "outputs": [
    {
     "data": {
      "image/png": "[encoded data removed]",
      "text/plain": [
       "<Figure size 504x360 with 1 Axes>"
      ]
     },
     "metadata": {
      "needs_background": "light"
     },
     "output_type": "display_data"
    }
   ],
   "source": [
    "a2['audience_type'].value_counts().plot.bar(figsize=(7,5))\n",
    "plt.xticks(rotation=0)\n",
    "plt.xlabel('Audience type',size=14)\n",
    "plt.ylabel('Number of people',size=14)\n",
    "plt.title('Audience',size=16);"
   ]
  },
  {
   "cell_type": "code",
   "execution_count": 45,
   "metadata": {},
   "outputs": [
    {
     "data": {
      "image/png": "[encoded data removed]",
      "text/plain": [
       "<Figure size 504x360 with 1 Axes>"
      ]
     },
     "metadata": {
      "needs_background": "light"
     },
     "output_type": "display_data"
    }
   ],
   "source": [
    "fig,ax=plt.subplots(figsize=(7,5))\n",
    "ax.scatter(a2['impressions'],a2['clicks'],c='lightskyblue')\n",
    "plt.xlabel('Impressions',size=14)\n",
    "plt.ylabel('Clicks',size=14)\n",
    "plt.title('Impression vs Clicks',size=16);\n"
   ]
  },
  {
   "cell_type": "code",
   "execution_count": 46,
   "metadata": {},
   "outputs": [
    {
     "data": {
      "image/png": "[encoded data removed]",
      "text/plain": [
       "<Figure size 504x360 with 1 Axes>"
      ]
     },
     "metadata": {
      "needs_background": "light"
     },
     "output_type": "display_data"
    }
   ],
   "source": [
    "fig,ax=plt.subplots(figsize=(7,5))\n",
    "ax.scatter(a2['impressions'],a2['spends'],c='lawngreen')\n",
    "plt.xlabel('Impressions',size=14)\n",
    "plt.ylabel('Spends',size=14)\n",
    "plt.title('Impression vs Spends',size=16);\n"
   ]
  },
  {
   "cell_type": "code",
   "execution_count": 57,
   "metadata": {},
   "outputs": [
    {
     "data": {
      "image/png": "[encoded data removed]",
      "text/plain": [
       "<Figure size 504x360 with 1 Axes>"
      ]
     },
     "metadata": {
      "needs_background": "light"
     },
     "output_type": "display_data"
    }
   ],
   "source": [
    "fig,ax=plt.subplots(figsize=(7,5))\n",
    "ax.bar(a2['audience_type'],a2['spends'],color='peru')\n",
    "plt.xlabel('Audience type',size=14)\n",
    "plt.ylabel('Spends',size=14)\n",
    "plt.title('Audience type vs Spends',size=16);\n"
   ]
  },
  {
   "cell_type": "code",
   "execution_count": 61,
   "metadata": {},
   "outputs": [
    {
     "data": {
      "image/png": "[encoded data removed]",
      "text/plain": [
       "<Figure size 504x360 with 1 Axes>"
      ]
     },
     "metadata": {
      "needs_background": "light"
     },
     "output_type": "display_data"
    }
   ],
   "source": [
    "fig,ax=plt.subplots(figsize=(7,5))\n",
    "ax.bar(a2['creative_type'],a2['spends'],color='c')\n",
    "plt.xlabel('Creative  type',size=14)\n",
    "plt.ylabel('Spends',size=14)\n",
    "plt.title('Creative type vs Spends',size=16);\n"
   ]
  }
 ],
 "metadata": {
  "kernelspec": {
   "display_name": "Python 3",
   "language": "python",
   "name": "python3"
  },
  "language_info": {
   "codemirror_mode": {
    "name": "ipython",
    "version": 3
   },
   "file_extension": ".py",
   "mimetype": "text/x-python",
   "name": "python",
   "nbconvert_exporter": "python",
   "pygments_lexer": "ipython3",
   "version": "3.8.3"
  }
 },
 "nbformat": 4,
 "nbformat_minor": 4
}
